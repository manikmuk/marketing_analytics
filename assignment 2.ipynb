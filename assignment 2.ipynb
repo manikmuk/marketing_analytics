{
 "cells": [
  {
   "cell_type": "code",
   "execution_count": 1,
   "metadata": {},
   "outputs": [],
   "source": [
    "import pandas as pd"
   ]
  },
  {
   "cell_type": "markdown",
   "metadata": {},
   "source": [
    "### Read in Data"
   ]
  },
  {
   "cell_type": "code",
   "execution_count": 168,
   "metadata": {},
   "outputs": [
    {
     "data": {
      "text/html": [
       "<div>\n",
       "<style scoped>\n",
       "    .dataframe tbody tr th:only-of-type {\n",
       "        vertical-align: middle;\n",
       "    }\n",
       "\n",
       "    .dataframe tbody tr th {\n",
       "        vertical-align: top;\n",
       "    }\n",
       "\n",
       "    .dataframe thead th {\n",
       "        text-align: right;\n",
       "    }\n",
       "</style>\n",
       "<table border=\"1\" class=\"dataframe\">\n",
       "  <thead>\n",
       "    <tr style=\"text-align: right;\">\n",
       "      <th></th>\n",
       "      <th>id</th>\n",
       "      <th>region</th>\n",
       "      <th>village</th>\n",
       "      <th>age</th>\n",
       "      <th>agpop</th>\n",
       "      <th>rice_inc</th>\n",
       "      <th>ricearea_2010</th>\n",
       "      <th>general_trust</th>\n",
       "      <th>educ</th>\n",
       "      <th>educ_good</th>\n",
       "      <th>...</th>\n",
       "      <th>literacy</th>\n",
       "      <th>age_missing</th>\n",
       "      <th>agpop_missing</th>\n",
       "      <th>rice_inc_missing</th>\n",
       "      <th>ricearea_2010_missing</th>\n",
       "      <th>disaster_loss_missing</th>\n",
       "      <th>educ_missing</th>\n",
       "      <th>male_missing</th>\n",
       "      <th>literacy_missing</th>\n",
       "      <th>takeup</th>\n",
       "    </tr>\n",
       "  </thead>\n",
       "  <tbody>\n",
       "    <tr>\n",
       "      <th>0</th>\n",
       "      <td>1</td>\n",
       "      <td>1</td>\n",
       "      <td>21</td>\n",
       "      <td>54</td>\n",
       "      <td>2</td>\n",
       "      <td>20</td>\n",
       "      <td>2.4</td>\n",
       "      <td>1</td>\n",
       "      <td>2.0</td>\n",
       "      <td>1</td>\n",
       "      <td>...</td>\n",
       "      <td>1</td>\n",
       "      <td>0</td>\n",
       "      <td>0</td>\n",
       "      <td>0</td>\n",
       "      <td>0</td>\n",
       "      <td>1</td>\n",
       "      <td>0</td>\n",
       "      <td>0</td>\n",
       "      <td>0</td>\n",
       "      <td>1</td>\n",
       "    </tr>\n",
       "    <tr>\n",
       "      <th>1</th>\n",
       "      <td>2</td>\n",
       "      <td>1</td>\n",
       "      <td>21</td>\n",
       "      <td>73</td>\n",
       "      <td>2</td>\n",
       "      <td>100</td>\n",
       "      <td>2.3</td>\n",
       "      <td>1</td>\n",
       "      <td>1.0</td>\n",
       "      <td>0</td>\n",
       "      <td>...</td>\n",
       "      <td>1</td>\n",
       "      <td>0</td>\n",
       "      <td>0</td>\n",
       "      <td>0</td>\n",
       "      <td>0</td>\n",
       "      <td>1</td>\n",
       "      <td>0</td>\n",
       "      <td>0</td>\n",
       "      <td>0</td>\n",
       "      <td>1</td>\n",
       "    </tr>\n",
       "    <tr>\n",
       "      <th>2</th>\n",
       "      <td>3</td>\n",
       "      <td>1</td>\n",
       "      <td>21</td>\n",
       "      <td>72</td>\n",
       "      <td>10</td>\n",
       "      <td>80</td>\n",
       "      <td>12.0</td>\n",
       "      <td>1</td>\n",
       "      <td>1.0</td>\n",
       "      <td>0</td>\n",
       "      <td>...</td>\n",
       "      <td>1</td>\n",
       "      <td>0</td>\n",
       "      <td>0</td>\n",
       "      <td>0</td>\n",
       "      <td>0</td>\n",
       "      <td>1</td>\n",
       "      <td>0</td>\n",
       "      <td>0</td>\n",
       "      <td>0</td>\n",
       "      <td>1</td>\n",
       "    </tr>\n",
       "    <tr>\n",
       "      <th>3</th>\n",
       "      <td>4</td>\n",
       "      <td>1</td>\n",
       "      <td>21</td>\n",
       "      <td>43</td>\n",
       "      <td>4</td>\n",
       "      <td>20</td>\n",
       "      <td>4.0</td>\n",
       "      <td>1</td>\n",
       "      <td>2.0</td>\n",
       "      <td>1</td>\n",
       "      <td>...</td>\n",
       "      <td>1</td>\n",
       "      <td>0</td>\n",
       "      <td>0</td>\n",
       "      <td>0</td>\n",
       "      <td>0</td>\n",
       "      <td>1</td>\n",
       "      <td>0</td>\n",
       "      <td>0</td>\n",
       "      <td>0</td>\n",
       "      <td>0</td>\n",
       "    </tr>\n",
       "    <tr>\n",
       "      <th>4</th>\n",
       "      <td>5</td>\n",
       "      <td>1</td>\n",
       "      <td>21</td>\n",
       "      <td>63</td>\n",
       "      <td>6</td>\n",
       "      <td>90</td>\n",
       "      <td>14.0</td>\n",
       "      <td>1</td>\n",
       "      <td>1.0</td>\n",
       "      <td>0</td>\n",
       "      <td>...</td>\n",
       "      <td>1</td>\n",
       "      <td>0</td>\n",
       "      <td>0</td>\n",
       "      <td>0</td>\n",
       "      <td>0</td>\n",
       "      <td>1</td>\n",
       "      <td>0</td>\n",
       "      <td>0</td>\n",
       "      <td>0</td>\n",
       "      <td>0</td>\n",
       "    </tr>\n",
       "  </tbody>\n",
       "</table>\n",
       "<p>5 rows × 24 columns</p>\n",
       "</div>"
      ],
      "text/plain": [
       "   id  region  village  age  agpop  rice_inc  ricearea_2010  general_trust  \\\n",
       "0   1       1       21   54      2        20            2.4              1   \n",
       "1   2       1       21   73      2       100            2.3              1   \n",
       "2   3       1       21   72     10        80           12.0              1   \n",
       "3   4       1       21   43      4        20            4.0              1   \n",
       "4   5       1       21   63      6        90           14.0              1   \n",
       "\n",
       "   educ  educ_good  ...  literacy  age_missing  agpop_missing  \\\n",
       "0   2.0          1  ...         1            0              0   \n",
       "1   1.0          0  ...         1            0              0   \n",
       "2   1.0          0  ...         1            0              0   \n",
       "3   2.0          1  ...         1            0              0   \n",
       "4   1.0          0  ...         1            0              0   \n",
       "\n",
       "   rice_inc_missing  ricearea_2010_missing  disaster_loss_missing  \\\n",
       "0                 0                      0                      1   \n",
       "1                 0                      0                      1   \n",
       "2                 0                      0                      1   \n",
       "3                 0                      0                      1   \n",
       "4                 0                      0                      1   \n",
       "\n",
       "   educ_missing  male_missing  literacy_missing  takeup  \n",
       "0             0             0                 0       1  \n",
       "1             0             0                 0       1  \n",
       "2             0             0                 0       1  \n",
       "3             0             0                 0       0  \n",
       "4             0             0                 0       0  \n",
       "\n",
       "[5 rows x 24 columns]"
      ]
     },
     "execution_count": 168,
     "metadata": {},
     "output_type": "execute_result"
    }
   ],
   "source": [
    "df = pd.read_csv('insurance_prediction_training.csv')\n",
    "df = df.fillna(5.0)\n",
    "df.head()"
   ]
  },
  {
   "cell_type": "markdown",
   "metadata": {},
   "source": [
    "### Make dummy variables for region and educ, drop village"
   ]
  },
  {
   "cell_type": "code",
   "execution_count": 169,
   "metadata": {},
   "outputs": [],
   "source": [
    "educ_dummy = pd.get_dummies(df['educ'])\n",
    "new_names = []\n",
    "for i in range(len(educ_dummy.columns)):\n",
    "    new_names.append('educ_'+str(i))\n",
    "educ_dummy.columns = new_names\n",
    "df = df.drop(['educ'],axis=1)\n",
    "df = pd.concat([df,educ_dummy],axis=1)\n",
    "\n",
    "region_dummy = pd.get_dummies(df['region'])\n",
    "new_names = []\n",
    "for i in range(len(region_dummy.columns)):\n",
    "    new_names.append('region_'+str(i))\n",
    "region_dummy.columns = new_names\n",
    "df = df.drop(['region','village'],axis=1)\n",
    "df = pd.concat([df,region_dummy],axis=1)\n",
    "df.head()"
   ]
  },
  {
   "cell_type": "markdown",
   "metadata": {},
   "source": [
    "### Split into train and val"
   ]
  },
  {
   "cell_type": "code",
   "execution_count": 171,
   "metadata": {},
   "outputs": [],
   "source": [
    "from sklearn.model_selection import train_test_split\n",
    "\n",
    "X,y = df.drop(['takeup'],axis=1), df['takeup']\n",
    "x_train, x_val, y_train, y_val = train_test_split(X,y,test_size=.3)"
   ]
  },
  {
   "cell_type": "markdown",
   "metadata": {},
   "source": [
    "### Try hella models"
   ]
  },
  {
   "cell_type": "code",
   "execution_count": 143,
   "metadata": {},
   "outputs": [
    {
     "data": {
      "text/plain": [
       "(0.6881000003895026, 0.5517550673176507)"
      ]
     },
     "execution_count": 143,
     "metadata": {},
     "output_type": "execute_result"
    }
   ],
   "source": [
    "from sklearn.linear_model import Lasso # .69269\n",
    "from sklearn.model_selection import GridSearchCV\n",
    "from sklearn.metrics import log_loss, roc_auc_score\n",
    "\n",
    "clf1 = Lasso()\n",
    "params = [{'alpha':[0.5,1]}]\n",
    "clf2 = GridSearchCV(clf1,param_grid=params,cv=5)\n",
    "clf2.fit(x_train,y_train)\n",
    "prediction = clf2.predict(x_val)\n",
    "log_loss(y_val, prediction), roc_auc_score(y_val,prediction)"
   ]
  },
  {
   "cell_type": "code",
   "execution_count": 144,
   "metadata": {},
   "outputs": [
    {
     "data": {
      "text/plain": [
       "(0.6863568905604147, 0.5573180204172214)"
      ]
     },
     "execution_count": 144,
     "metadata": {},
     "output_type": "execute_result"
    }
   ],
   "source": [
    "from sklearn.linear_model import ElasticNet\n",
    "\n",
    "clf1 = ElasticNet()\n",
    "params = [{'alpha':[.8,1],\n",
    "          'l1_ratio':[.05,.1,.3]}]\n",
    "clf2 = GridSearchCV(clf1,param_grid=params,cv=5)\n",
    "clf2.fit(x_train,y_train)\n",
    "prediction = clf2.predict(x_val)\n",
    "log_loss(y_val, prediction), roc_auc_score(y_val,prediction)"
   ]
  },
  {
   "cell_type": "code",
   "execution_count": 145,
   "metadata": {},
   "outputs": [
    {
     "data": {
      "text/plain": [
       "(0.6656053612308962, 0.6365901020861073)"
      ]
     },
     "execution_count": 145,
     "metadata": {},
     "output_type": "execute_result"
    }
   ],
   "source": [
    "from sklearn.linear_model import Ridge\n",
    "\n",
    "clf1 = Ridge()\n",
    "params = [{'alpha':[.5,.6,.7,.8,.9,1]}]\n",
    "clf2 = GridSearchCV(clf1,param_grid=params,cv=5)\n",
    "clf2.fit(x_train,y_train)\n",
    "prediction = clf2.predict(x_val)\n",
    "log_loss(y_val, prediction), roc_auc_score(y_val,prediction)"
   ]
  },
  {
   "cell_type": "code",
   "execution_count": 146,
   "metadata": {},
   "outputs": [
    {
     "data": {
      "text/plain": [
       "(1.6912305210259468, 0.8543821201361148)"
      ]
     },
     "execution_count": 146,
     "metadata": {},
     "output_type": "execute_result"
    }
   ],
   "source": [
    "from sklearn.tree import DecisionTreeClassifier\n",
    "\n",
    "clf1 = DecisionTreeClassifier()\n",
    "params = [{'max_depth':[3,5,10],\n",
    "          'min_samples_leaf':[1,5,10]}]\n",
    "clf2 = GridSearchCV(clf1,param_grid=params,cv=5)\n",
    "clf2.fit(x_train,y_train)\n",
    "prediction = clf2.predict_proba(x_val)[:,1]\n",
    "log_loss(y_val, prediction), roc_auc_score(y_val,prediction)"
   ]
  },
  {
   "cell_type": "markdown",
   "metadata": {},
   "source": [
    "### idk why i tried hella models when i knew i would pick gradient boosting"
   ]
  },
  {
   "cell_type": "code",
   "execution_count": 172,
   "metadata": {},
   "outputs": [
    {
     "data": {
      "text/plain": [
       "(0.1705490578808012, 0.9790971105318618)"
      ]
     },
     "execution_count": 172,
     "metadata": {},
     "output_type": "execute_result"
    }
   ],
   "source": [
    "from sklearn.ensemble import GradientBoostingClassifier\n",
    "\n",
    "clf1 = GradientBoostingClassifier()\n",
    "params = [{'max_depth':[3,5,10],\n",
    "          'min_samples_leaf':[1,5,10]}]\n",
    "clf2 = GridSearchCV(clf1,param_grid=params,cv=5)\n",
    "clf2.fit(x_train,y_train)\n",
    "prediction = clf2.predict_proba(x_val)[:,1]\n",
    "log_loss(y_val, prediction), roc_auc_score(y_val,prediction)"
   ]
  },
  {
   "cell_type": "code",
   "execution_count": 173,
   "metadata": {},
   "outputs": [
    {
     "name": "stdout",
     "output_type": "stream",
     "text": [
      "0.04976206570384889 id\n",
      "0.21719420624467814 age\n",
      "0.1017660743656746 agpop\n",
      "0.10059497756722105 rice_inc\n",
      "0.1811420315026488 ricearea_2010\n",
      "0.024584086771555574 general_trust\n",
      "0.014086387013268432 educ_good\n",
      "0.021800698092000713 male\n",
      "0.08154468314901134 disaster_loss\n",
      "0.00974826730125566 disaster_yes\n",
      "0.06253476201703731 risk_averse\n",
      "0.013474809770470319 literacy\n",
      "0.0 age_missing\n",
      "2.3775746189792347e-05 agpop_missing\n",
      "0.003729684389431356 rice_inc_missing\n",
      "0.004143104161742537 ricearea_2010_missing\n",
      "0.014548035848782117 disaster_loss_missing\n",
      "3.838173733135276e-05 educ_missing\n",
      "0.00010541867951109503 male_missing\n",
      "3.493510225115859e-05 literacy_missing\n",
      "0.01072441041595983 educ_0\n",
      "0.016206803255032747 educ_1\n",
      "0.010488727567569975 educ_2\n",
      "0.01046246515713939 educ_3\n",
      "0.0025015536791255124 educ_4\n",
      "7.956897091184347e-05 educ_5\n",
      "0.021154037792618704 region_0\n",
      "0.015950605696462106 region_1\n",
      "0.011575442301269348 region_2\n"
     ]
    }
   ],
   "source": [
    "# Check feature importance\n",
    "# note: probably not good that ID is so important,, maybe fix that?\n",
    "for (x,y) in zip(clf2.best_estimator_.feature_importances_,x_train.columns):\n",
    "    print(x, y)"
   ]
  },
  {
   "cell_type": "markdown",
   "metadata": {},
   "source": [
    "### Predict on test data and write to csv"
   ]
  },
  {
   "cell_type": "code",
   "execution_count": 174,
   "metadata": {},
   "outputs": [],
   "source": [
    "test = pd.read_csv('insurance_prediction_to_predict.csv')\n",
    "test = test.fillna(5.0)\n",
    "\n",
    "educ_dummy = pd.get_dummies(test['educ'])\n",
    "new_names = []\n",
    "for i in range(len(educ_dummy.columns)):\n",
    "    new_names.append('educ_'+str(i))\n",
    "educ_dummy.columns = new_names\n",
    "test = test.drop(['educ'],axis=1)\n",
    "test = pd.concat([test,educ_dummy],axis=1)\n",
    "\n",
    "region_dummy = pd.get_dummies(test['region'])\n",
    "new_names = []\n",
    "for i in range(len(region_dummy.columns)):\n",
    "    new_names.append('region_'+str(i))\n",
    "region_dummy.columns = new_names\n",
    "test = test.drop(['region','village'],axis=1)\n",
    "test = pd.concat([test,region_dummy],axis=1)\n",
    "\n",
    "\n",
    "test_prediction = clf2.predict_proba(test)[:,1]\n",
    "test['takeup'] = test_prediction\n",
    "test = test[['id','takeup']]\n",
    "test.to_csv('my_predictions.csv',index=False)"
   ]
  }
 ],
 "metadata": {
  "kernelspec": {
   "display_name": "Python 3",
   "language": "python",
   "name": "python3"
  },
  "language_info": {
   "codemirror_mode": {
    "name": "ipython",
    "version": 3
   },
   "file_extension": ".py",
   "mimetype": "text/x-python",
   "name": "python",
   "nbconvert_exporter": "python",
   "pygments_lexer": "ipython3",
   "version": "3.7.2"
  }
 },
 "nbformat": 4,
 "nbformat_minor": 2
}
